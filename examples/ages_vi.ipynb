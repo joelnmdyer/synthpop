{
 "cells": [
  {
   "cell_type": "code",
   "execution_count": 1,
   "metadata": {},
   "outputs": [],
   "source": [
    "%load_ext autoreload\n",
    "%autoreload 2"
   ]
  },
  {
   "cell_type": "code",
   "execution_count": 2,
   "metadata": {},
   "outputs": [
    {
     "name": "stderr",
     "output_type": "stream",
     "text": [
      "/Users/arnull/miniconda3/envs/torch2/lib/python3.10/site-packages/tqdm/auto.py:21: TqdmWarning: IProgress not found. Please update jupyter and ipywidgets. See https://ipywidgets.readthedocs.io/en/stable/user_install.html\n",
      "  from .autonotebook import tqdm as notebook_tqdm\n"
     ]
    }
   ],
   "source": [
    "import torch\n",
    "torch.manual_seed(0)\n",
    "import numpy as np\n",
    "import matplotlib.pyplot as plt\n",
    "\n",
    "from synthpop.infer import Infer, VI \n",
    "from synthpop.generative import MultivariateNormal"
   ]
  },
  {
   "cell_type": "code",
   "execution_count": 3,
   "metadata": {},
   "outputs": [],
   "source": [
    "def model(generator):\n",
    "    n_agents = 1000\n",
    "    agent_ages, agent_sexes = generator(n_agents)\n",
    "    mask = agent_sexes == 0.\n",
    "    return agent_ages[mask], agent_ages[~mask]\n",
    "\n",
    "def loss(x):\n",
    "    age_males, age_females = x\n",
    "    return torch.abs(1 - torch.abs(torch.mean(age_males) - torch.mean(age_females)))\n",
    "\n",
    "class MetaGenerator(MultivariateNormal):\n",
    "    def forward(self, generator_params=None):\n",
    "        if generator_params is None:\n",
    "            generator_params = self.sample(1)[0][0]\n",
    "        def generator(n_agents):\n",
    "            sex_dist = torch.distributions.Categorical(torch.tensor([0.5, 0.5]))\n",
    "            sexes = sex_dist.sample((n_agents,))\n",
    "            mus = generator_params[sexes]\n",
    "            age_dist = torch.distributions.Normal(mus, 1.0)\n",
    "            ages = torch.clamp(age_dist.rsample(), min=0.0)\n",
    "            return ages, sexes\n",
    "        return generator"
   ]
  },
  {
   "cell_type": "code",
   "execution_count": 4,
   "metadata": {},
   "outputs": [
    {
     "name": "stderr",
     "output_type": "stream",
     "text": [
      "100%|██████████| 200/200 [00:01<00:00, 101.45it/s, loss=0.18, reg=0.12, total=0.30, best loss=0.18, epochs since improv.=43]  \n"
     ]
    }
   ],
   "source": [
    "inff = 1000\n",
    "prior = torch.distributions.Independent(torch.distributions.Uniform(torch.tensor([-inff, -inff]), torch.tensor([inff,inff])), 1)\n",
    "meta_generator = MetaGenerator(torch.nn.Parameter(torch.tensor([50., 50.])), torch.nn.Parameter(torch.tensor(25.) * torch.eye(2)))\n",
    "optimizer = torch.optim.Adam(meta_generator.parameters(), lr=1e-1)\n",
    "infer = Infer(model=model, meta_generator=meta_generator, prior=prior, loss=loss)\n",
    "infer_method = VI(w=1e-2, optimizer=optimizer, progress_bar=True, progress_info=True)\n",
    "trained_meta_generator = infer.fit(infer_method, n_epochs=200)"
   ]
  },
  {
   "cell_type": "code",
   "execution_count": 5,
   "metadata": {},
   "outputs": [
    {
     "data": {
      "image/png": "[encoded data removed]",
      "text/plain": [
       "<Figure size 640x480 with 1 Axes>"
      ]
     },
     "metadata": {},
     "output_type": "display_data"
    }
   ],
   "source": [
    "generator = trained_meta_generator()\n",
    "with torch.no_grad():\n",
    "    ages_males, ages_females = model(generator)\n",
    "\n",
    "f, ax = plt.subplots()\n",
    "ax.hist(ages_males.numpy(), bins=50, label=\"male\")\n",
    "ax.hist(ages_females.numpy(), bins=50, label=\"female\");\n",
    "mean_diff = torch.abs(ages_males.mean() - ages_females.mean()).item()\n",
    "ax.set_title(f\"Difference between population means is {mean_diff:.2f}\")\n",
    "f.savefig(\"../docs/_static/age_example.png\", dpi=150, bbox_inches=\"tight\")"
   ]
  },
  {
   "cell_type": "code",
   "execution_count": null,
   "metadata": {},
   "outputs": [],
   "source": []
  }
 ],
 "metadata": {
  "kernelspec": {
   "display_name": "torch2",
   "language": "python",
   "name": "python3"
  },
  "language_info": {
   "codemirror_mode": {
    "name": "ipython",
    "version": 3
   },
   "file_extension": ".py",
   "mimetype": "text/x-python",
   "name": "python",
   "nbconvert_exporter": "python",
   "pygments_lexer": "ipython3",
   "version": "3.10.9"
  },
  "orig_nbformat": 4
 },
 "nbformat": 4,
 "nbformat_minor": 2
}
