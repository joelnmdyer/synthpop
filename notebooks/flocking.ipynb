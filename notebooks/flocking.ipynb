{
 "cells": [
  {
   "cell_type": "code",
   "execution_count": null,
   "metadata": {},
   "outputs": [],
   "source": [
    "%load_ext autoreload\n",
    "%autoreload 2"
   ]
  },
  {
   "cell_type": "code",
   "execution_count": null,
   "metadata": {},
   "outputs": [],
   "source": [
    "from synthpop.models.flocking_model import FlockingModel"
   ]
  },
  {
   "cell_type": "code",
   "execution_count": null,
   "metadata": {},
   "outputs": [],
   "source": [
    "import torch\n",
    "import numpy as np\n",
    "import matplotlib.pyplot as plt\n",
    "\n",
    "from synthpop.infer import Infer, VI, SMCABC\n",
    "\n",
    "from synthpop.generative import MaskedAutoRegressiveFlow, SampleGenerator, DiracDelta\n",
    "import pygtc"
   ]
  },
  {
   "cell_type": "code",
   "execution_count": null,
   "metadata": {},
   "outputs": [],
   "source": [
    "# Model parameters\n",
    "n_agents = 20 # Number of birds\n",
    "k = 5 # Number of factors\n",
    "speed = 3.0 # Bird speed is fixed\n",
    "avoid_factor = 5.0 # Avoid factor is fixed\n",
    "avoid_radius = 10.0 # Avoid radius is fixed\n",
    "sep_factor = 0.2 # Separation factor is fixed\n",
    "sep_radius = 15.0 # Separation factor is fixed\n",
    "n_timesteps = 500\n",
    "n_parameters = 18\n",
    "model = FlockingModel(n_agents=n_agents, k=k, n_timesteps=n_timesteps)"
   ]
  },
  {
   "cell_type": "code",
   "execution_count": null,
   "metadata": {},
   "outputs": [],
   "source": [
    "# define loss\n",
    "def loss_circle_std(x):\n",
    "    x = x[0]\n",
    "    radii = np.sqrt(x[:, 0, :]**2 + x[:, 1, :]**2)\n",
    "    radii_std = np.std(radii, axis=1)\n",
    "    assert radii_std.shape == (n_agents,)\n",
    "    return np.mean(radii_std)\n",
    "\n",
    "def loss_circle_hausdorff(x):\n",
    "    x = torch.tensor(x[0], dtype=torch.float).reshape(n_agents, n_timesteps, 2)\n",
    "    t = torch.linspace(0, 2 * torch.pi, 100)\n",
    "    r = 100\n",
    "    circle = torch.stack([r * torch.cos(t), r * torch.sin(t)], axis=1).reshape(1, 100, 2)\n",
    "    # claculate pairwise dsitance between each bird trajectory and the circle\n",
    "    pw = torch.cdist(x, circle)\n",
    "    # compute hausdorff distance\n",
    "    return torch.max(torch.max(torch.min(pw, dim=0)[0]), torch.max(torch.min(pw, dim=1)[0]))\n",
    "\n",
    "def make_generator(generator_params):\n",
    "    def generator(n_agents):\n",
    "        params = iter(generator_params.numpy())\n",
    "        # position is randomly distributed\n",
    "        pos_x = 250 * np.random.uniform(next(params), next(params), (n_agents,))\n",
    "        pos_y = 250 * np.random.uniform(next(params), next(params), (n_agents,))\n",
    "        pos = np.stack([pos_x, pos_y], axis=1)\n",
    "        # angle is between 0 and 2pi\n",
    "        orientation = 2 * np.pi * np.random.beta(np.exp(next(params)), np.exp(next(params)), (n_agents,))\n",
    "        vel = np.stack([np.cos(orientation), np.sin(orientation)], axis=1)\n",
    "        speeds = speed * np.ones((n_agents,))\n",
    "        # factors\n",
    "        stuborn_factors = np.random.lognormal(next(params), np.exp(next(params)), (n_agents,))\n",
    "        cohere_factors = np.random.lognormal(next(params), np.exp(next(params)), (n_agents,))\n",
    "        ##sep_factors = np.random.normal(beta_alphas[3], beta_betas[3], (n_agents,))\n",
    "        sep_factors = sep_factor * np.ones((n_agents,))\n",
    "        match_factors = np.random.lognormal(next(params), np.exp(next(params)), (n_agents,))\n",
    "        #avoid_factors = np.random.normal(5 + beta_alphas[5], beta_betas[5], (n_agents,))\n",
    "        avoid_factors = avoid_factor * np.ones((n_agents,))\n",
    "        factors = np.stack([stuborn_factors, cohere_factors, sep_factors, match_factors, avoid_factors], axis=0)\n",
    "        #factors = np.clip(factors, a_min=0, a_max=None)\n",
    "        # radii\n",
    "        # lognormally distributed\n",
    "        lognormal_mu = [next(params) for i in range(3)] \n",
    "        lognormal_sigma = np.exp([next(params) for i in range(3)])\n",
    "        stuborn_radii = np.random.lognormal(lognormal_mu[0], lognormal_sigma[0], (n_agents,))\n",
    "        cohere_radii = np.random.lognormal(lognormal_mu[1], lognormal_sigma[1], (n_agents,))\n",
    "        #sep_radii = np.random.lognormal(15 + lognormal_mu[2], lognormal_sigma[2], (n_agents,))\n",
    "        sep_radii = sep_radius * np.ones((n_agents,))\n",
    "        match_radii = np.random.lognormal(lognormal_mu[2], lognormal_sigma[2], (n_agents,))\n",
    "        #avoid_radii = np.random.lognormal(10 + lognormal_mu[4], lognormal_sigma[4], (n_agents,))\n",
    "        avoid_radii = avoid_radius * np.ones((n_agents,))\n",
    "        radii = np.stack([stuborn_radii, cohere_radii, sep_radii, match_radii, avoid_radii], axis=0)\n",
    "        return pos, vel, speeds, factors, radii\n",
    "    return generator\n"
   ]
  },
  {
   "cell_type": "markdown",
   "metadata": {},
   "source": [
    "# 1. SMCABC"
   ]
  },
  {
   "cell_type": "code",
   "execution_count": null,
   "metadata": {},
   "outputs": [],
   "source": [
    "\n",
    "class SampleMetaGenerator(SampleGenerator):\n",
    "    def forward(self, generator_params):\n",
    "        return make_generator(generator_params)\n",
    "\n",
    "prior = torch.distributions.Independent(torch.distributions.Uniform(torch.zeros(n_parameters), torch.ones(n_parameters)), reinterpreted_batch_ndims=1)"
   ]
  },
  {
   "cell_type": "code",
   "execution_count": null,
   "metadata": {},
   "outputs": [],
   "source": [
    "sample_meta_generator = SampleMetaGenerator()\n",
    "generator = sample_meta_generator(prior.sample())\n",
    "x = model(generator)\n",
    "positions, velocities = x\n",
    "model.plot(positions, velocities, \"../figures/birds/birds_smcabc_prior.gif\", plot_lim=500)"
   ]
  },
  {
   "cell_type": "code",
   "execution_count": null,
   "metadata": {},
   "outputs": [],
   "source": [
    "infer = Infer(model=model, meta_generator=sample_meta_generator, prior=prior, loss=loss_circle)\n",
    "infer_method = SMCABC(num_particles = 100, num_initial_pop=1_000, num_simulations=1_000, epsilon_decay=0.6)\n",
    "trained_meta_generator = infer.fit(infer_method, num_workers=1)"
   ]
  },
  {
   "cell_type": "code",
   "execution_count": null,
   "metadata": {},
   "outputs": [],
   "source": [
    "generator = trained_meta_generator()\n",
    "x = model(generator)\n",
    "positions, velocities = x\n",
    "model.plot(positions, velocities, \"../figures/birds/birds_smcabc_trained.gif\")"
   ]
  },
  {
   "cell_type": "markdown",
   "metadata": {},
   "source": [
    "# 2. Variational Inference"
   ]
  },
  {
   "cell_type": "code",
   "execution_count": null,
   "metadata": {},
   "outputs": [],
   "source": [
    "\n",
    "class FlowMetaGenerator(MaskedAutoRegressiveFlow):\n",
    "    def forward(self, generator_params=None):\n",
    "        if generator_params is None:\n",
    "            with torch.no_grad():\n",
    "                generator_params = self.sample(1)[0][0]\n",
    "        return make_generator(generator_params)"
   ]
  },
  {
   "cell_type": "code",
   "execution_count": null,
   "metadata": {},
   "outputs": [],
   "source": [
    "flow_meta_generator = FlowMetaGenerator(n_parameters=n_parameters, n_hidden_units=32, n_transforms=8)"
   ]
  },
  {
   "cell_type": "code",
   "execution_count": null,
   "metadata": {},
   "outputs": [],
   "source": [
    "\n",
    "generator = flow_meta_generator()\n",
    "x = model(generator)\n",
    "positions, velocities = x\n",
    "model.plot(positions, velocities, \"../figures/birds/vi_prior.gif\")"
   ]
  },
  {
   "cell_type": "code",
   "execution_count": null,
   "metadata": {},
   "outputs": [],
   "source": [
    "inff = 1000\n",
    "prior_vi = torch.distributions.Independent(torch.distributions.Uniform(-inff * torch.ones(n_parameters), inff * torch.ones(n_parameters)), 1)\n",
    "infer = Infer(model=model, meta_generator=flow_meta_generator, prior=prior_vi, loss=loss_circle_std)\n",
    "optimizer = torch.optim.AdamW(flow_meta_generator.parameters(), lr=1e-3)\n",
    "infer_method = VI(w=0., n_samples_per_epoch=25, optimizer=optimizer, \n",
    "                    progress_bar=True, progress_info=True, gradient_estimation_method=\"score\", log_tensorboard=True)\n",
    "flow_meta_generator = infer.fit(infer_method, n_epochs=1000, max_epochs_without_improvement=50)\n",
    "flow_meta_generator.load_state_dict(torch.load(\"./best_estimator.pt\"))"
   ]
  },
  {
   "cell_type": "code",
   "execution_count": null,
   "metadata": {},
   "outputs": [],
   "source": [
    "flow_meta_generator.load_state_dict(torch.load(\"./best_estimator.pt\"))\n",
    "generator = flow_meta_generator()\n",
    "x = model(generator)\n",
    "positions, velocities = x\n",
    "model.plot(positions, velocities, \"../figures/birds/vi_trained.gif\")"
   ]
  },
  {
   "cell_type": "code",
   "execution_count": null,
   "metadata": {},
   "outputs": [],
   "source": [
    "loss_circle(x)"
   ]
  },
  {
   "cell_type": "code",
   "execution_count": null,
   "metadata": {},
   "outputs": [],
   "source": []
  }
 ],
 "metadata": {
  "kernelspec": {
   "display_name": "torch2",
   "language": "python",
   "name": "python3"
  },
  "language_info": {
   "codemirror_mode": {
    "name": "ipython",
    "version": 3
   },
   "file_extension": ".py",
   "mimetype": "text/x-python",
   "name": "python",
   "nbconvert_exporter": "python",
   "pygments_lexer": "ipython3",
   "version": "3.10.9"
  },
  "orig_nbformat": 4
 },
 "nbformat": 4,
 "nbformat_minor": 2
}
