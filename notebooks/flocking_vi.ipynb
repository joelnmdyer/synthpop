{
 "cells": [
  {
   "cell_type": "code",
   "execution_count": 1,
   "metadata": {},
   "outputs": [],
   "source": [
    "%load_ext autoreload\n",
    "%autoreload 2"
   ]
  },
  {
   "cell_type": "code",
   "execution_count": 2,
   "metadata": {},
   "outputs": [
    {
     "name": "stderr",
     "output_type": "stream",
     "text": [
      "INFO:FlockingModel:Loading julia...\n",
      "  ActivatingINFO:FlockingModel:Pre-compiling FlockingModel...\n",
      " project at `~/code/synthpop/synthpop/models/FlockingModel`\n"
     ]
    }
   ],
   "source": [
    "from synthpop.models.flocking_model import FlockingModel"
   ]
  },
  {
   "cell_type": "code",
   "execution_count": 3,
   "metadata": {},
   "outputs": [
    {
     "name": "stderr",
     "output_type": "stream",
     "text": [
      "/Users/arnull/miniconda3/envs/torch2/lib/python3.10/site-packages/tqdm/auto.py:21: TqdmWarning: IProgress not found. Please update jupyter and ipywidgets. See https://ipywidgets.readthedocs.io/en/stable/user_install.html\n",
      "  from .autonotebook import tqdm as notebook_tqdm\n"
     ]
    }
   ],
   "source": [
    "import torch\n",
    "import numpy as np\n",
    "import matplotlib.pyplot as plt\n",
    "\n",
    "from synthpop.infer import Infer, VI\n",
    "from synthpop.generative import MaskedAutoRegressiveFlow\n",
    "import pygtc"
   ]
  },
  {
   "cell_type": "code",
   "execution_count": 43,
   "metadata": {},
   "outputs": [],
   "source": [
    "\n",
    "n = 25 # Number of birds\n",
    "k = 5 # Number of factors\n",
    "speed = 3.0 # Bird speed is fixed\n",
    "avoid_factor = 5.0 # Avoid factor is fixed\n",
    "avoid_radius = 10.0 # Avoid radius is fixed\n",
    "sep_factor = 0.2 # Separation factor is fixed\n",
    "sep_radius = 15.0 # Separation factor is fixed\n",
    "n_timesteps = 1000\n",
    "n_parameters = 16\n",
    "model = FlockingModel(n_agents=n, k=k, n_timesteps=n_timesteps)"
   ]
  },
  {
   "cell_type": "code",
   "execution_count": 44,
   "metadata": {},
   "outputs": [],
   "source": [
    "\n",
    "def loss(x):\n",
    "    x = x[0]\n",
    "    ret = 0.0\n",
    "    n_agents = x.shape[0]\n",
    "    radii = np.sqrt(x[:, 0, :]**2 + x[:, 1, :]**2)\n",
    "    error = np.std(radii, axis=1)\n",
    "    return torch.tensor(np.mean(error))\n",
    "\n",
    "class MetaGenerator(MaskedAutoRegressiveFlow):\n",
    "    def forward(self, generator_params=None):\n",
    "        if generator_params is None:\n",
    "            with torch.no_grad():\n",
    "                generator_params = self.sample(1)[0][0]\n",
    "        def generator(n_agents):\n",
    "            params = generator_params.numpy()\n",
    "            # position is randomly distributed\n",
    "            pos = 50 * np.random.uniform(params[0], params[1], (n_agents, 2))\n",
    "            # beta distributed values\n",
    "            beta_alphas = np.exp(params[[2, 3, 4, 5]])\n",
    "            beta_betas = np.exp(params[[6, 7, 8, 9]])\n",
    "            # angle is between 0 and 2pi\n",
    "            orientation = 2 * np.pi * np.random.beta(beta_alphas[0], beta_betas[0], (n_agents,))\n",
    "            speeds = speed * np.ones((n_agents,))\n",
    "            vel = speed * np.stack([np.cos(orientation), np.sin(orientation)], axis=1)\n",
    "            # factors\n",
    "            stuborn_factors = np.random.beta(beta_alphas[1], beta_betas[1], (n_agents,))\n",
    "            cohere_factors = np.random.beta(beta_alphas[2], beta_betas[2], (n_agents,))\n",
    "            sep_factors = sep_factor * np.ones((n_agents,))\n",
    "            match_factors = np.random.beta(beta_alphas[3], beta_betas[3], (n_agents,))\n",
    "            avoid_factors = avoid_factor * np.ones((n_agents,))\n",
    "            factors = np.stack([stuborn_factors, cohere_factors, sep_factors, match_factors, avoid_factors], axis=0)\n",
    "            # radii\n",
    "            # lognormally distributed\n",
    "            lognormal_mu = params[[10, 11, 12]]\n",
    "            lognormal_sigma = np.exp(params[[13, 14, 15]])\n",
    "            stuborn_radii = np.random.lognormal(lognormal_mu[0], lognormal_sigma[0], (n_agents,))\n",
    "            cohere_radii = np.random.lognormal(lognormal_mu[1], lognormal_sigma[1], (n_agents,))\n",
    "            sep_radii = sep_radius * np.ones((n_agents,))\n",
    "            match_radii = np.random.lognormal(lognormal_mu[2], lognormal_sigma[2], (n_agents,))\n",
    "            avoid_radii = avoid_radius * np.ones((n_agents,))\n",
    "            radii = np.stack([stuborn_radii, cohere_radii, sep_radii, match_radii, avoid_radii], axis=0)\n",
    "            return pos, vel, speeds, factors, radii\n",
    "        return generator\n"
   ]
  },
  {
   "cell_type": "code",
   "execution_count": 50,
   "metadata": {},
   "outputs": [
    {
     "name": "stderr",
     "output_type": "stream",
     "text": [
      "  9%|▉         | 90/1000 [01:34<15:28,  1.02s/it, loss=31.81, reg=11.47, total=43.28, best loss=23.52, epochs since improv.=50] INFO:vi:Stopping early because the loss did not improve for 50 epochs.\n",
      "  9%|▉         | 90/1000 [01:34<15:57,  1.05s/it, loss=31.81, reg=11.47, total=43.28, best loss=23.52, epochs since improv.=50]\n"
     ]
    },
    {
     "data": {
      "text/plain": [
       "<All keys matched successfully>"
      ]
     },
     "execution_count": 50,
     "metadata": {},
     "output_type": "execute_result"
    }
   ],
   "source": [
    "meta_generator = MetaGenerator(n_parameters = n_parameters, n_transforms=8, n_hidden_units=64)\n",
    "inff = 1000\n",
    "prior_vi = torch.distributions.Independent(torch.distributions.Uniform(-inff * torch.ones(n_parameters), inff * torch.ones(n_parameters)), 1)\n",
    "infer = Infer(model=model, meta_generator=meta_generator, prior=prior_vi, loss=loss)\n",
    "optimizer = torch.optim.AdamW(meta_generator.parameters(), lr=3e-3)\n",
    "infer_method = VI(w=0.1, n_samples_per_epoch=10, optimizer=optimizer, \n",
    "                    progress_bar=True, progress_info=True, gradient_estimation_method=\"score\", log_tensorboard=True)\n",
    "meta_generator = infer.fit(infer_method, n_epochs=1000, max_epochs_without_improvement=50)\n",
    "meta_generator.load_state_dict(torch.load(\"./best_estimator.pt\"))\n"
   ]
  },
  {
   "cell_type": "code",
   "execution_count": 51,
   "metadata": {},
   "outputs": [
    {
     "data": {
      "text/plain": [
       "<All keys matched successfully>"
      ]
     },
     "execution_count": 51,
     "metadata": {},
     "output_type": "execute_result"
    }
   ],
   "source": [
    "meta_generator.load_state_dict(torch.load(\"./best_estimator.pt\"))"
   ]
  },
  {
   "cell_type": "code",
   "execution_count": 52,
   "metadata": {},
   "outputs": [],
   "source": [
    "# plot bird trajectories\n",
    "generator = meta_generator()\n",
    "x = model(generator)\n",
    "positions, velocities = x"
   ]
  },
  {
   "cell_type": "code",
   "execution_count": 53,
   "metadata": {},
   "outputs": [],
   "source": [
    "np.save(\"positions.npy\", positions)\n",
    "np.save(\"velocities.npy\", velocities)"
   ]
  },
  {
   "cell_type": "code",
   "execution_count": null,
   "metadata": {},
   "outputs": [],
   "source": []
  },
  {
   "cell_type": "code",
   "execution_count": null,
   "metadata": {},
   "outputs": [],
   "source": []
  }
 ],
 "metadata": {
  "kernelspec": {
   "display_name": "torch2",
   "language": "python",
   "name": "python3"
  },
  "language_info": {
   "codemirror_mode": {
    "name": "ipython",
    "version": 3
   },
   "file_extension": ".py",
   "mimetype": "text/x-python",
   "name": "python",
   "nbconvert_exporter": "python",
   "pygments_lexer": "ipython3",
   "version": "3.10.9"
  },
  "orig_nbformat": 4
 },
 "nbformat": 4,
 "nbformat_minor": 2
}
