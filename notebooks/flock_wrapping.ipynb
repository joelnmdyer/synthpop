{
 "cells": [
  {
   "cell_type": "code",
   "execution_count": 1,
   "metadata": {},
   "outputs": [],
   "source": [
    "from julia import Julia\n",
    "import numpy as np"
   ]
  },
  {
   "cell_type": "code",
   "execution_count": 2,
   "metadata": {},
   "outputs": [
    {
     "name": "stderr",
     "output_type": "stream",
     "text": [
      "  Activating project at `~/code/synthpop/synthpop/models/FlockingModel`\n"
     ]
    }
   ],
   "source": [
    "jl = Julia(compiled_modules=False)\n",
    "from julia import Main\n",
    "Main.eval(\"using Pkg\")\n",
    "Main.eval(\"Pkg.activate(\\\"../synthpop/models/FlockingModel\\\")\")"
   ]
  },
  {
   "cell_type": "code",
   "execution_count": 3,
   "metadata": {},
   "outputs": [],
   "source": [
    "run_script_jl = \"\"\"using FlockingModel\n",
    "function run_flocking_model(n, k, pos, vel, speed, factors, radii; time_steps)\n",
    "    factor_fns = [avoid_direction, stubborn_direction, sep_direction, cohere_direction, match_direction]\n",
    "    model = BoidModel(n, k, pos, vel, speed, factors, radii)\n",
    "    run!(model, time_steps, factor_fns)\n",
    "end\n",
    "\"\"\""
   ]
  },
  {
   "cell_type": "code",
   "execution_count": 6,
   "metadata": {},
   "outputs": [
    {
     "data": {
      "text/plain": [
       "<PyCall.jlwrap run_flocking_model>"
      ]
     },
     "execution_count": 6,
     "metadata": {},
     "output_type": "execute_result"
    }
   ],
   "source": [
    "Main.eval(run_script_jl)"
   ]
  },
  {
   "cell_type": "code",
   "execution_count": 4,
   "metadata": {},
   "outputs": [],
   "source": [
    "#Main.eval(\"include(\\\"../synthpop/models/FlockingModel/run.jl\\\")\")"
   ]
  },
  {
   "cell_type": "code",
   "execution_count": 7,
   "metadata": {},
   "outputs": [],
   "source": [
    "n = 5\n",
    "k = 3\n",
    "pos = np.random.rand(n, 2)\n",
    "vel = np.random.rand(n, 2)\n",
    "speed = np.random.rand(n)\n",
    "factors = np.random.rand(k, n)\n",
    "radii = np.random.rand(k,n)"
   ]
  },
  {
   "cell_type": "code",
   "execution_count": 8,
   "metadata": {},
   "outputs": [],
   "source": [
    "#Main.eval(\"include(\\\"../synthpop/models/FlockingModel/run.jl\\\")\")\n",
    "xs, vels = Main.run_flocking_model(n, k, pos, vel, speed, factors, radii, time_steps=100)"
   ]
  },
  {
   "cell_type": "code",
   "execution_count": 9,
   "metadata": {},
   "outputs": [
    {
     "data": {
      "text/plain": [
       "(5, 2, 100)"
      ]
     },
     "execution_count": 9,
     "metadata": {},
     "output_type": "execute_result"
    }
   ],
   "source": [
    "xs.shape"
   ]
  },
  {
   "cell_type": "code",
   "execution_count": 10,
   "metadata": {},
   "outputs": [
    {
     "data": {
      "text/plain": [
       "(5, 2, 100)"
      ]
     },
     "execution_count": 10,
     "metadata": {},
     "output_type": "execute_result"
    }
   ],
   "source": [
    "vels.shape"
   ]
  },
  {
   "cell_type": "code",
   "execution_count": null,
   "metadata": {},
   "outputs": [],
   "source": []
  }
 ],
 "metadata": {
  "kernelspec": {
   "display_name": "torch2",
   "language": "python",
   "name": "python3"
  },
  "language_info": {
   "codemirror_mode": {
    "name": "ipython",
    "version": 3
   },
   "file_extension": ".py",
   "mimetype": "text/x-python",
   "name": "python",
   "nbconvert_exporter": "python",
   "pygments_lexer": "ipython3",
   "version": "3.10.9"
  },
  "orig_nbformat": 4
 },
 "nbformat": 4,
 "nbformat_minor": 2
}
